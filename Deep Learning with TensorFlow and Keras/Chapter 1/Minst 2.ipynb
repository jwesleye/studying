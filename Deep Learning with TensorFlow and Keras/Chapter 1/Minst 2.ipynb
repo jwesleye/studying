{
 "cells": [
  {
   "cell_type": "code",
   "execution_count": 1,
   "id": "initial_id",
   "metadata": {
    "collapsed": true,
    "ExecuteTime": {
     "end_time": "2024-01-14T22:07:55.473623Z",
     "start_time": "2024-01-14T22:07:54.012125700Z"
    }
   },
   "outputs": [
    {
     "name": "stderr",
     "output_type": "stream",
     "text": [
      "2024-01-14 22:07:54.295376: E external/local_xla/xla/stream_executor/cuda/cuda_dnn.cc:9261] Unable to register cuDNN factory: Attempting to register factory for plugin cuDNN when one has already been registered\n",
      "2024-01-14 22:07:54.295434: E external/local_xla/xla/stream_executor/cuda/cuda_fft.cc:607] Unable to register cuFFT factory: Attempting to register factory for plugin cuFFT when one has already been registered\n",
      "2024-01-14 22:07:54.296268: E external/local_xla/xla/stream_executor/cuda/cuda_blas.cc:1515] Unable to register cuBLAS factory: Attempting to register factory for plugin cuBLAS when one has already been registered\n",
      "2024-01-14 22:07:54.301427: I tensorflow/core/platform/cpu_feature_guard.cc:182] This TensorFlow binary is optimized to use available CPU instructions in performance-critical operations.\n",
      "To enable the following instructions: AVX2 FMA, in other operations, rebuild TensorFlow with the appropriate compiler flags.\n"
     ]
    }
   ],
   "source": [
    "import tensorflow as tf\n",
    "import numpy as np\n",
    "from tensorflow import keras"
   ]
  },
  {
   "cell_type": "code",
   "outputs": [],
   "source": [
    "EPOCHS = 50\n",
    "BATCH_SIZE = 128\n",
    "VERBOSE = 1\n",
    "NB_CLASSES = 10\n",
    "N_HIDDEN = 128\n",
    "VALIDATION_SPLIT = 0.2\n",
    "RESHAPED = 784"
   ],
   "metadata": {
    "collapsed": false,
    "ExecuteTime": {
     "end_time": "2024-01-14T22:07:55.481151Z",
     "start_time": "2024-01-14T22:07:55.475623100Z"
    }
   },
   "id": "23dbaa0d76efc48",
   "execution_count": 2
  },
  {
   "cell_type": "code",
   "outputs": [],
   "source": [
    "mnist = keras.datasets.mnist"
   ],
   "metadata": {
    "collapsed": false,
    "ExecuteTime": {
     "end_time": "2024-01-14T22:07:55.493125700Z",
     "start_time": "2024-01-14T22:07:55.479124600Z"
    }
   },
   "id": "1d72adaac3a6d571",
   "execution_count": 3
  },
  {
   "cell_type": "code",
   "outputs": [],
   "source": [
    "(X_train, y_train), (X_test, y_test) = mnist.load_data()\n"
   ],
   "metadata": {
    "collapsed": false,
    "ExecuteTime": {
     "end_time": "2024-01-14T22:07:55.686125100Z",
     "start_time": "2024-01-14T22:07:55.494627600Z"
    }
   },
   "id": "aa19542ec61b5247",
   "execution_count": 4
  },
  {
   "cell_type": "code",
   "outputs": [
    {
     "name": "stdout",
     "output_type": "stream",
     "text": [
      "60000 train samples\n",
      "10000 test samples\n"
     ]
    }
   ],
   "source": [
    "X_train = X_train.reshape(60000, RESHAPED)\n",
    "X_test = X_test.reshape(10000, RESHAPED)\n",
    "X_train = X_train.astype('float32')\n",
    "X_test = X_test.astype('float32')\n",
    "\n",
    "X_train /= 255\n",
    "X_test /= 255\n",
    "print(X_train.shape[0], 'train samples')\n",
    "print(X_test.shape[0], 'test samples')\n",
    "\n",
    "y_train = keras.utils.to_categorical(y_train, NB_CLASSES)\n",
    "y_test = keras.utils.to_categorical(y_test, NB_CLASSES)"
   ],
   "metadata": {
    "collapsed": false,
    "ExecuteTime": {
     "end_time": "2024-01-14T22:07:55.750662300Z",
     "start_time": "2024-01-14T22:07:55.688124600Z"
    }
   },
   "id": "2947f0c29d9321d4",
   "execution_count": 5
  },
  {
   "cell_type": "code",
   "outputs": [
    {
     "name": "stderr",
     "output_type": "stream",
     "text": [
      "2024-01-14 22:07:57.336734: I external/local_xla/xla/stream_executor/cuda/cuda_executor.cc:887] could not open file to read NUMA node: /sys/bus/pci/devices/0000:01:00.0/numa_node\n",
      "Your kernel may have been built without NUMA support.\n",
      "2024-01-14 22:07:57.336795: I external/local_xla/xla/stream_executor/cuda/cuda_executor.cc:887] could not open file to read NUMA node: /sys/bus/pci/devices/0000:02:00.0/numa_node\n",
      "Your kernel may have been built without NUMA support.\n",
      "2024-01-14 22:07:57.340788: I external/local_xla/xla/stream_executor/cuda/cuda_executor.cc:887] could not open file to read NUMA node: /sys/bus/pci/devices/0000:01:00.0/numa_node\n",
      "Your kernel may have been built without NUMA support.\n",
      "2024-01-14 22:07:57.340819: I external/local_xla/xla/stream_executor/cuda/cuda_executor.cc:887] could not open file to read NUMA node: /sys/bus/pci/devices/0000:02:00.0/numa_node\n",
      "Your kernel may have been built without NUMA support.\n",
      "2024-01-14 22:07:57.340837: I external/local_xla/xla/stream_executor/cuda/cuda_executor.cc:887] could not open file to read NUMA node: /sys/bus/pci/devices/0000:01:00.0/numa_node\n",
      "Your kernel may have been built without NUMA support.\n",
      "2024-01-14 22:07:57.340852: I external/local_xla/xla/stream_executor"
     ]
    },
    {
     "name": "stdout",
     "output_type": "stream",
     "text": [
      "Model: \"sequential\"\n",
      "_________________________________________________________________\n",
      " Layer (type)                Output Shape              Param #   \n",
      "=================================================================\n",
      " dense_layer_1 (Dense)       (None, 128)               100480    \n",
      "                                                                 \n",
      " dense_layer_2 (Dense)       (None, 128)               16512     \n",
      "                                                                 \n",
      " dense_layer_3 (Dense)       (None, 10)                1290      \n",
      "                                                                 \n",
      "=================================================================\n",
      "Total params: 118282 (462.04 KB)\n",
      "Trainable params: 118282 (462.04 KB)\n",
      "Non-trainable params: 0 (0.00 Byte)\n",
      "_________________________________________________________________\n"
     ]
    },
    {
     "name": "stderr",
     "output_type": "stream",
     "text": [
      "/cuda/cuda_executor.cc:887] could not open file to read NUMA node: /sys/bus/pci/devices/0000:02:00.0/numa_node\n",
      "Your kernel may have been built without NUMA support.\n",
      "2024-01-14 22:07:57.631607: I external/local_xla/xla/stream_executor/cuda/cuda_executor.cc:887] could not open file to read NUMA node: /sys/bus/pci/devices/0000:01:00.0/numa_node\n",
      "Your kernel may have been built without NUMA support.\n",
      "2024-01-14 22:07:57.631641: I external/local_xla/xla/stream_executor/cuda/cuda_executor.cc:887] could not open file to read NUMA node: /sys/bus/pci/devices/0000:02:00.0/numa_node\n",
      "Your kernel may have been built without NUMA support.\n",
      "2024-01-14 22:07:57.631662: I external/local_xla/xla/stream_executor/cuda/cuda_executor.cc:887] could not open file to read NUMA node: /sys/bus/pci/devices/0000:01:00.0/numa_node\n",
      "Your kernel may have been built without NUMA support.\n",
      "2024-01-14 22:07:57.631678: I external/local_xla/xla/stream_executor/cuda/cuda_executor.cc:887] could not open file to read NUMA node: /sys/bus/pci/devices/0000:02:00.0/numa_node\n",
      "Your kernel may have been built without NUMA support.\n",
      "2024-01-14 22:07:57.631692: I external/local_xla/xla/stream_executor/cuda/cuda_executor.cc:887] could not open file to read NUMA node: /sys/bus/pci/devices/0000:01:00.0/numa_node\n",
      "Your kernel may have been built without NUMA support.\n",
      "2024-01-14 22:07:57.631708: I external/local_xla/xla/stream_executor/cuda/cuda_executor.cc:887] could not open file to read NUMA node: /sys/bus/pci/devices/0000:02:00.0/numa_node\n",
      "Your kernel may have been built without NUMA support.\n",
      "2024-01-14 22:07:57.641271: I external/local_xla/xla/stream_executor/cuda/cuda_executor.cc:887] could not open file to read NUMA node: /sys/bus/pci/devices/0000:01:00.0/numa_node\n",
      "Your kernel may have been built without NUMA support.\n",
      "2024-01-14 22:07:57.641479: I external/local_xla/xla/stream_executor/cuda/cuda_executor.cc:887] could not open file to read NUMA node: /sys/bus/pci/devices/0000:02:00.0/numa_node\n",
      "Your kernel may have been built without NUMA support.\n",
      "2024-01-14 22:07:57.641508: I external/local_xla/xla/stream_executor/cuda/cuda_executor.cc:887] could not open file to read NUMA node: /sys/bus/pci/devices/0000:01:00.0/numa_node\n",
      "Your kernel may have been built without NUMA support.\n",
      "2024-01-14 22:07:57.641515: I tensorflow/core/common_runtime/gpu/gpu_device.cc:2022] Could not identify NUMA node of platform GPU id 0, defaulting to 0.  Your kernel may not have been built with NUMA support.\n",
      "2024-01-14 22:07:57.641532: I external/local_xla/xla/stream_executor/cuda/cuda_executor.cc:887] could not open file to read NUMA node: /sys/bus/pci/devices/0000:02:00.0/numa_node\n",
      "Your kernel may have been built without NUMA support.\n",
      "2024-01-14 22:07:57.641537: I tensorflow/core/common_runtime/gpu/gpu_device.cc:2022] Could not identify NUMA node of platform GPU id 1, defaulting to 0.  Your kernel may not have been built with NUMA support.\n",
      "2024-01-14 22:07:57.641588: I external/local_xla/xla/stream_executor/cuda/cuda_executor.cc:887] could not open file to read NUMA node: /sys/bus/pci/devices/0000:01:00.0/numa_node\n",
      "Your kernel may have been built without NUMA support.\n",
      "2024-01-14 22:07:57.641607: I tensorflow/core/common_runtime/gpu/gpu_device.cc:1929] Created device /job:localhost/replica:0/task:0/device:GPU:0 with 9486 MB memory:  -> device: 0, name: NVIDIA GeForce RTX 3080, pci bus id: 0000:01:00.0, compute capability: 8.6\n",
      "2024-01-14 22:07:57.642588: I external/local_xla/xla/stream_executor/cuda/cuda_executor.cc:887] could not open file to read NUMA node: /sys/bus/pci/devices/0000:02:00.0/numa_node\n",
      "Your kernel may have been built without NUMA support.\n",
      "2024-01-14 22:07:57.642608: I tensorflow/core/common_runtime/gpu/gpu_device.cc:1929] Created device /job:localhost/replica:0/task:0/device:GPU:1 with 6087 MB memory:  -> device: 1, name: NVIDIA GeForce RTX 2070 SUPER, pci bus id: 0000:02:00.0, compute capability: 7.5\n"
     ]
    }
   ],
   "source": [
    "model = keras.models.Sequential()\n",
    "\n",
    "model.add(keras.layers.Dense(N_HIDDEN, \n",
    "                             input_shape=(RESHAPED, ),\n",
    "                             name=\"dense_layer_1\",\n",
    "                             activation='relu'))\n",
    "model.add(keras.layers.Dense(N_HIDDEN, \n",
    "                             name=\"dense_layer_2\",\n",
    "                             activation='relu'))\n",
    "model.add(keras.layers.Dense(NB_CLASSES, name=\"dense_layer_3\",\n",
    "                             activation=\"softmax\"))\n",
    "model.summary()"
   ],
   "metadata": {
    "collapsed": false,
    "ExecuteTime": {
     "end_time": "2024-01-14T22:07:59.424740700Z",
     "start_time": "2024-01-14T22:07:57.249754300Z"
    }
   },
   "id": "6ea1027e011582dd",
   "execution_count": 6
  },
  {
   "cell_type": "code",
   "outputs": [],
   "source": [],
   "metadata": {
    "collapsed": false
   },
   "id": "cbe31b91332e0819"
  },
  {
   "cell_type": "code",
   "outputs": [],
   "source": [
    "model.compile(optimizer='SGD',\n",
    "              loss ='categorical_crossentropy',\n",
    "              metrics=['accuracy'])"
   ],
   "metadata": {
    "collapsed": false,
    "ExecuteTime": {
     "end_time": "2024-01-14T22:08:08.099320100Z",
     "start_time": "2024-01-14T22:08:08.080820200Z"
    }
   },
   "id": "af7db900c92fcd12",
   "execution_count": 7
  },
  {
   "cell_type": "code",
   "outputs": [
    {
     "name": "stdout",
     "output_type": "stream",
     "text": [
      "Epoch 1/50\n",
      "  1/375 [..............................] - ETA: 4:20 - loss: 2.3053 - accuracy: 0.1016"
     ]
    },
    {
     "name": "stderr",
     "output_type": "stream",
     "text": [
      "2024-01-14 22:08:14.373058: I external/local_xla/xla/service/service.cc:168] XLA service 0x7f08d6474220 initialized for platform CUDA (this does not guarantee that XLA will be used). Devices:\n",
      "2024-01-14 22:08:14.373088: I external/local_xla/xla/service/service.cc:176]   StreamExecutor device (0): NVIDIA GeForce RTX 3080, Compute Capability 8.6\n",
      "2024-01-14 22:08:14.373095: I external/local_xla/xla/service/service.cc:176]   StreamExecutor device (1): NVIDIA GeForce RTX 2070 SUPER, Compute Capability 7.5\n",
      "2024-01-14 22:08:14.383275: I external/local_xla/xla/stream_executor/cuda/cuda_dnn.cc:454] Loaded cuDNN version 8906\n",
      "WARNING: All log messages before absl::InitializeLog() is called are written to STDERR\n",
      "I0000 00:00:1705270094.409308    2591 device_compiler.h:186] Compiled cluster using XLA!  This line is logged at most once for the lifetime of the process.\n"
     ]
    },
    {
     "name": "stdout",
     "output_type": "stream",
     "text": [
      "375/375 [==============================] - 3s 5ms/step - loss: 1.3790 - accuracy: 0.6577 - val_loss: 0.6865 - val_accuracy: 0.8539\n",
      "Epoch 2/50\n",
      "375/375 [==============================] - 2s 5ms/step - loss: 0.5596 - accuracy: 0.8608 - val_loss: 0.4321 - val_accuracy: 0.8909\n",
      "Epoch 3/50\n",
      "375/375 [==============================] - 2s 6ms/step - loss: 0.4218 - accuracy: 0.8865 - val_loss: 0.3631 - val_accuracy: 0.8995\n",
      "Epoch 4/50\n",
      "375/375 [==============================] - 2s 6ms/step - loss: 0.3686 - accuracy: 0.8976 - val_loss: 0.3312 - val_accuracy: 0.9067\n",
      "Epoch 5/50\n",
      "375/375 [==============================] - 2s 6ms/step - loss: 0.3375 - accuracy: 0.9050 - val_loss: 0.3070 - val_accuracy: 0.9123\n",
      "Epoch 6/50\n",
      "375/375 [==============================] - 2s 6ms/step - loss: 0.3156 - accuracy: 0.9100 - val_loss: 0.2887 - val_accuracy: 0.9183\n",
      "Epoch 7/50\n",
      "375/375 [==============================] - 2s 6ms/step - loss: 0.2979 - accuracy: 0.9147 - val_loss: 0.2757 - val_accuracy: 0.9216\n",
      "Epoch 8/50\n",
      "375/375 [==============================] - 2s 6ms/step - loss: 0.2834 - accuracy: 0.9191 - val_loss: 0.2633 - val_accuracy: 0.9251\n",
      "Epoch 9/50\n",
      "375/375 [==============================] - 2s 6ms/step - loss: 0.2706 - accuracy: 0.9226 - val_loss: 0.2531 - val_accuracy: 0.9266\n",
      "Epoch 10/50\n",
      "375/375 [==============================] - 2s 6ms/step - loss: 0.2594 - accuracy: 0.9254 - val_loss: 0.2431 - val_accuracy: 0.9308\n",
      "Epoch 11/50\n",
      "375/375 [==============================] - 2s 6ms/step - loss: 0.2493 - accuracy: 0.9295 - val_loss: 0.2340 - val_accuracy: 0.9334\n",
      "Epoch 12/50\n",
      "375/375 [==============================] - 2s 6ms/step - loss: 0.2401 - accuracy: 0.9319 - val_loss: 0.2275 - val_accuracy: 0.9352\n",
      "Epoch 13/50\n",
      "375/375 [==============================] - 2s 6ms/step - loss: 0.2317 - accuracy: 0.9347 - val_loss: 0.2196 - val_accuracy: 0.9377\n",
      "Epoch 14/50\n",
      "375/375 [==============================] - 2s 6ms/step - loss: 0.2241 - accuracy: 0.9370 - val_loss: 0.2135 - val_accuracy: 0.9402\n",
      "Epoch 15/50\n",
      "375/375 [==============================] - 2s 6ms/step - loss: 0.2169 - accuracy: 0.9387 - val_loss: 0.2078 - val_accuracy: 0.9414\n",
      "Epoch 16/50\n",
      "375/375 [==============================] - 2s 6ms/step - loss: 0.2101 - accuracy: 0.9405 - val_loss: 0.2017 - val_accuracy: 0.9432\n",
      "Epoch 17/50\n",
      "375/375 [==============================] - 2s 6ms/step - loss: 0.2038 - accuracy: 0.9422 - val_loss: 0.1977 - val_accuracy: 0.9431\n",
      "Epoch 18/50\n",
      "375/375 [==============================] - 2s 6ms/step - loss: 0.1981 - accuracy: 0.9440 - val_loss: 0.1921 - val_accuracy: 0.9465\n",
      "Epoch 19/50\n",
      "375/375 [==============================] - 2s 6ms/step - loss: 0.1925 - accuracy: 0.9455 - val_loss: 0.1886 - val_accuracy: 0.9471\n",
      "Epoch 20/50\n",
      "375/375 [==============================] - 2s 6ms/step - loss: 0.1871 - accuracy: 0.9466 - val_loss: 0.1831 - val_accuracy: 0.9484\n",
      "Epoch 21/50\n",
      "375/375 [==============================] - 2s 6ms/step - loss: 0.1824 - accuracy: 0.9480 - val_loss: 0.1797 - val_accuracy: 0.9490\n",
      "Epoch 22/50\n",
      "375/375 [==============================] - 2s 6ms/step - loss: 0.1778 - accuracy: 0.9490 - val_loss: 0.1784 - val_accuracy: 0.9496\n",
      "Epoch 23/50\n",
      "375/375 [==============================] - 2s 6ms/step - loss: 0.1735 - accuracy: 0.9508 - val_loss: 0.1728 - val_accuracy: 0.9512\n",
      "Epoch 24/50\n",
      "375/375 [==============================] - 2s 6ms/step - loss: 0.1693 - accuracy: 0.9519 - val_loss: 0.1704 - val_accuracy: 0.9522\n",
      "Epoch 25/50\n",
      "375/375 [==============================] - 2s 6ms/step - loss: 0.1651 - accuracy: 0.9528 - val_loss: 0.1666 - val_accuracy: 0.9535\n",
      "Epoch 26/50\n",
      "375/375 [==============================] - 2s 6ms/step - loss: 0.1617 - accuracy: 0.9539 - val_loss: 0.1647 - val_accuracy: 0.9540\n",
      "Epoch 27/50\n",
      "375/375 [==============================] - 2s 6ms/step - loss: 0.1579 - accuracy: 0.9555 - val_loss: 0.1609 - val_accuracy: 0.9554\n",
      "Epoch 28/50\n",
      "375/375 [==============================] - 3s 7ms/step - loss: 0.1545 - accuracy: 0.9564 - val_loss: 0.1581 - val_accuracy: 0.9559\n",
      "Epoch 29/50\n",
      "375/375 [==============================] - 2s 6ms/step - loss: 0.1512 - accuracy: 0.9571 - val_loss: 0.1558 - val_accuracy: 0.9563\n",
      "Epoch 30/50\n",
      "375/375 [==============================] - 2s 6ms/step - loss: 0.1479 - accuracy: 0.9582 - val_loss: 0.1528 - val_accuracy: 0.9578\n",
      "Epoch 31/50\n",
      "375/375 [==============================] - 2s 6ms/step - loss: 0.1448 - accuracy: 0.9589 - val_loss: 0.1513 - val_accuracy: 0.9574\n",
      "Epoch 32/50\n",
      "375/375 [==============================] - 2s 6ms/step - loss: 0.1417 - accuracy: 0.9594 - val_loss: 0.1489 - val_accuracy: 0.9578\n",
      "Epoch 33/50\n",
      "375/375 [==============================] - 2s 6ms/step - loss: 0.1390 - accuracy: 0.9603 - val_loss: 0.1472 - val_accuracy: 0.9587\n",
      "Epoch 34/50\n",
      "375/375 [==============================] - 2s 6ms/step - loss: 0.1362 - accuracy: 0.9616 - val_loss: 0.1454 - val_accuracy: 0.9588\n",
      "Epoch 35/50\n",
      "375/375 [==============================] - 2s 6ms/step - loss: 0.1335 - accuracy: 0.9621 - val_loss: 0.1428 - val_accuracy: 0.9591\n",
      "Epoch 36/50\n",
      "375/375 [==============================] - 2s 6ms/step - loss: 0.1309 - accuracy: 0.9636 - val_loss: 0.1411 - val_accuracy: 0.9593\n",
      "Epoch 37/50\n",
      "375/375 [==============================] - 2s 6ms/step - loss: 0.1285 - accuracy: 0.9638 - val_loss: 0.1404 - val_accuracy: 0.9606\n",
      "Epoch 38/50\n",
      "375/375 [==============================] - 2s 6ms/step - loss: 0.1261 - accuracy: 0.9644 - val_loss: 0.1370 - val_accuracy: 0.9617\n",
      "Epoch 39/50\n",
      "375/375 [==============================] - 2s 6ms/step - loss: 0.1238 - accuracy: 0.9649 - val_loss: 0.1353 - val_accuracy: 0.9611\n",
      "Epoch 40/50\n",
      "375/375 [==============================] - 2s 6ms/step - loss: 0.1213 - accuracy: 0.9663 - val_loss: 0.1343 - val_accuracy: 0.9610\n",
      "Epoch 41/50\n",
      "375/375 [==============================] - 2s 6ms/step - loss: 0.1192 - accuracy: 0.9663 - val_loss: 0.1337 - val_accuracy: 0.9617\n",
      "Epoch 42/50\n",
      "375/375 [==============================] - 2s 6ms/step - loss: 0.1172 - accuracy: 0.9668 - val_loss: 0.1312 - val_accuracy: 0.9629\n",
      "Epoch 43/50\n",
      "375/375 [==============================] - 2s 6ms/step - loss: 0.1149 - accuracy: 0.9679 - val_loss: 0.1303 - val_accuracy: 0.9633\n",
      "Epoch 44/50\n",
      "375/375 [==============================] - 2s 6ms/step - loss: 0.1131 - accuracy: 0.9680 - val_loss: 0.1282 - val_accuracy: 0.9633\n",
      "Epoch 45/50\n",
      "375/375 [==============================] - 2s 6ms/step - loss: 0.1110 - accuracy: 0.9688 - val_loss: 0.1272 - val_accuracy: 0.9631\n",
      "Epoch 46/50\n",
      "375/375 [==============================] - 2s 6ms/step - loss: 0.1091 - accuracy: 0.9695 - val_loss: 0.1260 - val_accuracy: 0.9638\n",
      "Epoch 47/50\n",
      "375/375 [==============================] - 2s 6ms/step - loss: 0.1070 - accuracy: 0.9701 - val_loss: 0.1258 - val_accuracy: 0.9638\n",
      "Epoch 48/50\n",
      "375/375 [==============================] - 2s 6ms/step - loss: 0.1054 - accuracy: 0.9705 - val_loss: 0.1242 - val_accuracy: 0.9637\n",
      "Epoch 49/50\n",
      "375/375 [==============================] - 2s 6ms/step - loss: 0.1036 - accuracy: 0.9710 - val_loss: 0.1222 - val_accuracy: 0.9637\n",
      "Epoch 50/50\n",
      "375/375 [==============================] - 2s 6ms/step - loss: 0.1017 - accuracy: 0.9718 - val_loss: 0.1207 - val_accuracy: 0.9643\n"
     ]
    },
    {
     "data": {
      "text/plain": "<keras.src.callbacks.History at 0x7f09c83d1710>"
     },
     "execution_count": 8,
     "metadata": {},
     "output_type": "execute_result"
    }
   ],
   "source": [
    "model.fit(X_train, y_train, batch_size=BATCH_SIZE, epochs=EPOCHS, verbose=VERBOSE, validation_split=VALIDATION_SPLIT)"
   ],
   "metadata": {
    "collapsed": false,
    "ExecuteTime": {
     "end_time": "2024-01-14T22:10:02.808846400Z",
     "start_time": "2024-01-14T22:08:13.519948100Z"
    }
   },
   "id": "52b3676014dbeb16",
   "execution_count": 8
  },
  {
   "cell_type": "code",
   "outputs": [
    {
     "name": "stdout",
     "output_type": "stream",
     "text": [
      "313/313 [==============================] - 1s 5ms/step - loss: 0.1171 - accuracy: 0.9651\n",
      "Test accuracy: 0.9650999903678894\n"
     ]
    }
   ],
   "source": [
    "test_loss, test_acc = model.evaluate(X_test, y_test)\n",
    "print('Test accuracy:', test_acc)"
   ],
   "metadata": {
    "collapsed": false,
    "ExecuteTime": {
     "end_time": "2024-01-14T22:10:04.318843Z",
     "start_time": "2024-01-14T22:10:02.799343900Z"
    }
   },
   "id": "17d0cf5084836ee6",
   "execution_count": 9
  },
  {
   "cell_type": "code",
   "outputs": [],
   "source": [],
   "metadata": {
    "collapsed": false
   },
   "id": "346399ebb5222db0"
  }
 ],
 "metadata": {
  "kernelspec": {
   "display_name": "Python 3",
   "language": "python",
   "name": "python3"
  },
  "language_info": {
   "codemirror_mode": {
    "name": "ipython",
    "version": 2
   },
   "file_extension": ".py",
   "mimetype": "text/x-python",
   "name": "python",
   "nbconvert_exporter": "python",
   "pygments_lexer": "ipython2",
   "version": "2.7.6"
  }
 },
 "nbformat": 4,
 "nbformat_minor": 5
}
